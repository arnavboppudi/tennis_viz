{
 "cells": [
  {
   "cell_type": "markdown",
   "metadata": {},
   "source": [
    "### Calculates probability of winning a tennis match from any given score dependent on the skill levels\n"
   ]
  },
  {
   "cell_type": "code",
   "execution_count": 2,
   "metadata": {},
   "outputs": [],
   "source": [
    "## calculates probability of winning a tennis match from any given score dependent on the skill levels\n",
    "## of the two players\n",
    "from tennisGameProbability import gameProb\n",
    "from tennisSetProbability import setGeneral\n",
    "from tennisTiebreakProbability import tiebreakProb\n",
    "\n",
    "def fact(x):\n",
    "    if x in [0, 1]:  return 1\n",
    "    r = 1\n",
    "    for a in range(1, (x+1)):  r = r*a\n",
    "    return r\n",
    " \n",
    "def ch(a, b):\n",
    "    return fact(a)/(fact(b)*fact(a-b))\n",
    " \n",
    "def matchGeneral(e, v=0, w=0, s=3):\n",
    "    ## calculates probability of winning the match\n",
    "    ## from the beginning of a set\n",
    "    ## e is p(winning a set)\n",
    "    ## v and w is current set score\n",
    "    ## s is total number of sets (\"best of\")\n",
    "    towin = (s+1)//2\n",
    "    left = towin - v\n",
    "    if left == 0:   return 1\n",
    "    remain = s - v - w\n",
    "    if left > remain:   return 0\n",
    "    win = 0\n",
    "    for i in range(int(left), int(remain+1)):\n",
    "        add = ch((i-1), (left-1))*(e**(left-1))*((1-e)**(i-left))*e\n",
    "        win += add\n",
    "    return win\n",
    "\n",
    "def matchProb(s, t, gv=0, gw=0, sv=0, sw=0, mv=0, mw=0, sets=3):\n",
    "    ## calculates probability of winning a match from any given score,\n",
    "    ## given:\n",
    "    ## s, t: p(server wins a service point), p(server wins return point)\n",
    "    ## gv, gw: current score within the game. e.g. 30-15 is 2, 1\n",
    "    ## sv, sw: current score within the set. e.g. 5, 4\n",
    "    ## mv, mw: current score within the match (number of sets for each player)\n",
    "    ## v's are serving player; w's are returning player\n",
    "    ## sets: \"best of\", so default is best of 3\n",
    "    a = gameProb(s)\n",
    "    b = gameProb(t)\n",
    "    c = setGeneral(s, t)\n",
    "    if gv == 0 and gw == 0: ## no point score\n",
    "        if sv == 0 and sw == 0: ## no game score\n",
    "            return matchGeneral(c, v=mv, w=mw, s=sets)\n",
    "        else:   ## we're in mid-set, no point score\n",
    "            sWin = setGeneral(a, b, s, t, v=sv, w=sw)\n",
    "            sLoss = 1 - sWin\n",
    "    elif sv == 6 and sw == 6:         \n",
    "        sWin = tiebreakProb(s, t, v=gv, w=gw)\n",
    "        sLoss = 1 - sWin       \n",
    "    else:\n",
    "        gWin = gameProb(s, v=gv, w=gw)\n",
    "        gLoss = 1 - gWin\n",
    "        sWin = gWin*(1 - setGeneral((1-b), (1-a), (1-t), (1-s), v=sw, w=(sv+1)))\n",
    "        sWin += gLoss*(1 - setGeneral((1-b), (1-a), (1-t), (1-s), v=(sw+1), w=sv))\n",
    "        sLoss = 1 - sWin\n",
    "    mWin = sWin*matchGeneral(c, v=(mv+1), w=mw, s=sets)\n",
    "    mWin += sLoss*matchGeneral(c, v=mv, w=(mw+1), s=sets)\n",
    "    return mWin"
   ]
  },
  {
   "cell_type": "code",
   "execution_count": 3,
   "metadata": {},
   "outputs": [
    {
     "ename": "TypeError",
     "evalue": "'float' object cannot be interpreted as an integer",
     "output_type": "error",
     "traceback": [
      "\u001b[0;31m---------------------------------------------------------------------------\u001b[0m",
      "\u001b[0;31mTypeError\u001b[0m                                 Traceback (most recent call last)",
      "Cell \u001b[0;32mIn[3], line 17\u001b[0m\n\u001b[1;32m     14\u001b[0m sets \u001b[39m=\u001b[39m \u001b[39m3\u001b[39m  \u001b[39m# Best of 3 sets match\u001b[39;00m\n\u001b[1;32m     16\u001b[0m \u001b[39m# Call the function with your test parameters\u001b[39;00m\n\u001b[0;32m---> 17\u001b[0m result \u001b[39m=\u001b[39m matchProb(s, t, gv, gw, sv, sw, mv, mw, sets)\n\u001b[1;32m     19\u001b[0m \u001b[39m# Print the result\u001b[39;00m\n\u001b[1;32m     20\u001b[0m \u001b[39mprint\u001b[39m(\u001b[39mf\u001b[39m\u001b[39m\"\u001b[39m\u001b[39mThe probability of the serving player winning the match is: \u001b[39m\u001b[39m{\u001b[39;00mresult\u001b[39m \u001b[39m\u001b[39m*\u001b[39m\u001b[39m \u001b[39m\u001b[39m100\u001b[39m\u001b[39m:\u001b[39;00m\u001b[39m.2f\u001b[39m\u001b[39m}\u001b[39;00m\u001b[39m%\u001b[39m\u001b[39m\"\u001b[39m)\n",
      "Cell \u001b[0;32mIn[2], line 44\u001b[0m, in \u001b[0;36mmatchProb\u001b[0;34m(s, t, gv, gw, sv, sw, mv, mw, sets)\u001b[0m\n\u001b[1;32m     42\u001b[0m a \u001b[39m=\u001b[39m gameProb(s)\n\u001b[1;32m     43\u001b[0m b \u001b[39m=\u001b[39m gameProb(t)\n\u001b[0;32m---> 44\u001b[0m c \u001b[39m=\u001b[39m setGeneral(s, t)\n\u001b[1;32m     45\u001b[0m \u001b[39mif\u001b[39;00m gv \u001b[39m==\u001b[39m \u001b[39m0\u001b[39m \u001b[39mand\u001b[39;00m gw \u001b[39m==\u001b[39m \u001b[39m0\u001b[39m: \u001b[39m## no point score\u001b[39;00m\n\u001b[1;32m     46\u001b[0m     \u001b[39mif\u001b[39;00m sv \u001b[39m==\u001b[39m \u001b[39m0\u001b[39m \u001b[39mand\u001b[39;00m sw \u001b[39m==\u001b[39m \u001b[39m0\u001b[39m: \u001b[39m## no game score\u001b[39;00m\n",
      "File \u001b[0;32m~/Desktop/FoundationsCS/TENNIS DASHBOARD/tennisSetProbability.py:126\u001b[0m, in \u001b[0;36msetGeneral\u001b[0;34m(s, u, v, w, tb)\u001b[0m\n\u001b[1;32m    124\u001b[0m     sGames \u001b[39m=\u001b[39m (t\u001b[39m-\u001b[39m\u001b[39m1\u001b[39m)\u001b[39m/\u001b[39m\u001b[39m2\u001b[39m\n\u001b[1;32m    125\u001b[0m     rGames \u001b[39m=\u001b[39m (t\u001b[39m-\u001b[39m\u001b[39m1\u001b[39m)\u001b[39m/\u001b[39m\u001b[39m2\u001b[39m\n\u001b[0;32m--> 126\u001b[0m pOutcome \u001b[39m=\u001b[39m setOutcome(final, sGames, rGames, w, (\u001b[39m1\u001b[39;49m\u001b[39m-\u001b[39;49mg), (\u001b[39m1\u001b[39;49m\u001b[39m-\u001b[39;49mh))\n\u001b[1;32m    127\u001b[0m key \u001b[39m=\u001b[39m \u001b[39mstr\u001b[39m(i) \u001b[39m+\u001b[39m \u001b[39m'\u001b[39m\u001b[39m6\u001b[39m\u001b[39m'\u001b[39m\n\u001b[1;32m    128\u001b[0m outcomes[key] \u001b[39m=\u001b[39m pOutcome       \n",
      "File \u001b[0;32m~/Desktop/FoundationsCS/TENNIS DASHBOARD/tennisSetProbability.py:23\u001b[0m, in \u001b[0;36msetOutcome\u001b[0;34m(final, sGames, rGames, vw, g, h)\u001b[0m\n\u001b[1;32m     21\u001b[0m \u001b[39mdef\u001b[39;00m \u001b[39msetOutcome\u001b[39m(final, sGames, rGames, vw, g, h):\n\u001b[1;32m     22\u001b[0m     pOutcome \u001b[39m=\u001b[39m \u001b[39m0\u001b[39m\n\u001b[0;32m---> 23\u001b[0m     \u001b[39mfor\u001b[39;00m j \u001b[39min\u001b[39;00m \u001b[39mrange\u001b[39;49m((sGames\u001b[39m+\u001b[39;49m\u001b[39m1\u001b[39;49m)):\n\u001b[1;32m     24\u001b[0m         \u001b[39mfor\u001b[39;00m k \u001b[39min\u001b[39;00m \u001b[39mrange\u001b[39m((rGames\u001b[39m+\u001b[39m\u001b[39m1\u001b[39m)):\n\u001b[1;32m     25\u001b[0m             \u001b[39mif\u001b[39;00m (j \u001b[39m+\u001b[39m k) \u001b[39m==\u001b[39m (\u001b[39m6\u001b[39m \u001b[39m-\u001b[39m \u001b[39m1\u001b[39m \u001b[39m-\u001b[39m vw):\n",
      "\u001b[0;31mTypeError\u001b[0m: 'float' object cannot be interpreted as an integer"
     ]
    }
   ],
   "source": [
    "# ... (your functions here) ...\n",
    "\n",
    "# Define your test parameters\n",
    "s = 0.65  # Probability of server winning a service point\n",
    "t = 0.55  # Probability of server winning a return point\n",
    "\n",
    "# Current score details\n",
    "gv = 2    # Current game score of serving player (e.g., 2 for 30)\n",
    "gw = 1    # Current game score of returning player (e.g., 1 for 15)\n",
    "sv = 5    # Current set score of serving player\n",
    "sw = 4    # Current set score of returning player\n",
    "mv = 1    # Current match score of serving player\n",
    "mw = 1    # Current match score of returning player\n",
    "sets = 3  # Best of 3 sets match\n",
    "\n",
    "# Call the function with your test parameters\n",
    "result = matchProb(s, t, gv, gw, sv, sw, mv, mw, sets)\n",
    "\n",
    "# Print the result\n",
    "print(f\"The probability of the serving player winning the match is: {result * 100:.2f}%\")\n"
   ]
  }
 ],
 "metadata": {
  "kernelspec": {
   "display_name": "myenv",
   "language": "python",
   "name": "python3"
  },
  "language_info": {
   "codemirror_mode": {
    "name": "ipython",
    "version": 3
   },
   "file_extension": ".py",
   "mimetype": "text/x-python",
   "name": "python",
   "nbconvert_exporter": "python",
   "pygments_lexer": "ipython3",
   "version": "3.9.17"
  },
  "orig_nbformat": 4
 },
 "nbformat": 4,
 "nbformat_minor": 2
}
